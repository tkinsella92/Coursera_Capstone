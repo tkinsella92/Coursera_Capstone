{
    "cells": [
        {
            "cell_type": "markdown",
            "metadata": {
                "collapsed": true
            },
            "source": "### Seattle Collision Severity Prediction\n"
        },
        {
            "cell_type": "code",
            "execution_count": 1,
            "metadata": {},
            "outputs": [],
            "source": "import pandas as pd\nimport numpy as np"
        },
        {
            "cell_type": "code",
            "execution_count": 2,
            "metadata": {},
            "outputs": [
                {
                    "name": "stderr",
                    "output_type": "stream",
                    "text": "/opt/conda/envs/Python36/lib/python3.6/site-packages/IPython/core/interactiveshell.py:3020: DtypeWarning: Columns (33) have mixed types. Specify dtype option on import or set low_memory=False.\n  interactivity=interactivity, compiler=compiler, result=result)\n"
                },
                {
                    "data": {
                        "text/plain": "(194673, 37)"
                    },
                    "execution_count": 2,
                    "metadata": {},
                    "output_type": "execute_result"
                }
            ],
            "source": "#import the dataset into a dataframe\ndf = pd.read_csv('https://s3.us.cloud-object-storage.appdomain.cloud/cf-courses-data/CognitiveClass/DP0701EN/version-2/Data-Collisions.csv',index_col = 3)\ndf.shape"
        },
        {
            "cell_type": "code",
            "execution_count": 3,
            "metadata": {},
            "outputs": [
                {
                    "data": {
                        "text/html": "<div>\n<style scoped>\n    .dataframe tbody tr th:only-of-type {\n        vertical-align: middle;\n    }\n\n    .dataframe tbody tr th {\n        vertical-align: top;\n    }\n\n    .dataframe thead th {\n        text-align: right;\n    }\n</style>\n<table border=\"1\" class=\"dataframe\">\n  <thead>\n    <tr style=\"text-align: right;\">\n      <th></th>\n      <th>SEVERITYCODE</th>\n      <th>ADDRTYPE</th>\n      <th>JUNCTIONTYPE</th>\n      <th>UNDERINFL</th>\n      <th>WEATHER</th>\n      <th>ROADCOND</th>\n      <th>LIGHTCOND</th>\n      <th>SPEEDING</th>\n    </tr>\n    <tr>\n      <th>OBJECTID</th>\n      <th></th>\n      <th></th>\n      <th></th>\n      <th></th>\n      <th></th>\n      <th></th>\n      <th></th>\n      <th></th>\n    </tr>\n  </thead>\n  <tbody>\n    <tr>\n      <th>1</th>\n      <td>2</td>\n      <td>Intersection</td>\n      <td>At Intersection (intersection related)</td>\n      <td>N</td>\n      <td>Overcast</td>\n      <td>Wet</td>\n      <td>Daylight</td>\n      <td>NaN</td>\n    </tr>\n    <tr>\n      <th>2</th>\n      <td>1</td>\n      <td>Block</td>\n      <td>Mid-Block (not related to intersection)</td>\n      <td>0</td>\n      <td>Raining</td>\n      <td>Wet</td>\n      <td>Dark - Street Lights On</td>\n      <td>NaN</td>\n    </tr>\n    <tr>\n      <th>3</th>\n      <td>1</td>\n      <td>Block</td>\n      <td>Mid-Block (not related to intersection)</td>\n      <td>0</td>\n      <td>Overcast</td>\n      <td>Dry</td>\n      <td>Daylight</td>\n      <td>NaN</td>\n    </tr>\n    <tr>\n      <th>4</th>\n      <td>1</td>\n      <td>Block</td>\n      <td>Mid-Block (not related to intersection)</td>\n      <td>N</td>\n      <td>Clear</td>\n      <td>Dry</td>\n      <td>Daylight</td>\n      <td>NaN</td>\n    </tr>\n    <tr>\n      <th>5</th>\n      <td>2</td>\n      <td>Intersection</td>\n      <td>At Intersection (intersection related)</td>\n      <td>0</td>\n      <td>Raining</td>\n      <td>Wet</td>\n      <td>Daylight</td>\n      <td>NaN</td>\n    </tr>\n  </tbody>\n</table>\n</div>",
                        "text/plain": "          SEVERITYCODE      ADDRTYPE                             JUNCTIONTYPE  \\\nOBJECTID                                                                        \n1                    2  Intersection   At Intersection (intersection related)   \n2                    1         Block  Mid-Block (not related to intersection)   \n3                    1         Block  Mid-Block (not related to intersection)   \n4                    1         Block  Mid-Block (not related to intersection)   \n5                    2  Intersection   At Intersection (intersection related)   \n\n         UNDERINFL   WEATHER ROADCOND                LIGHTCOND SPEEDING  \nOBJECTID                                                                 \n1                N  Overcast      Wet                 Daylight      NaN  \n2                0   Raining      Wet  Dark - Street Lights On      NaN  \n3                0  Overcast      Dry                 Daylight      NaN  \n4                N     Clear      Dry                 Daylight      NaN  \n5                0   Raining      Wet                 Daylight      NaN  "
                    },
                    "execution_count": 3,
                    "metadata": {},
                    "output_type": "execute_result"
                }
            ],
            "source": "#pull only the necessary features from the dataframe\nfeatures = df[['SEVERITYCODE','ADDRTYPE','JUNCTIONTYPE','UNDERINFL','WEATHER','ROADCOND','LIGHTCOND','SPEEDING']]\nfeatures.head()"
        },
        {
            "cell_type": "code",
            "execution_count": 4,
            "metadata": {},
            "outputs": [
                {
                    "name": "stderr",
                    "output_type": "stream",
                    "text": "/opt/conda/envs/Python36/lib/python3.6/site-packages/ipykernel/__main__.py:2: SettingWithCopyWarning: \nA value is trying to be set on a copy of a slice from a DataFrame.\nTry using .loc[row_indexer,col_indexer] = value instead\n\nSee the caveats in the documentation: http://pandas.pydata.org/pandas-docs/stable/indexing.html#indexing-view-versus-copy\n  from ipykernel import kernelapp as app\n/opt/conda/envs/Python36/lib/python3.6/site-packages/ipykernel/__main__.py:3: SettingWithCopyWarning: \nA value is trying to be set on a copy of a slice from a DataFrame.\nTry using .loc[row_indexer,col_indexer] = value instead\n\nSee the caveats in the documentation: http://pandas.pydata.org/pandas-docs/stable/indexing.html#indexing-view-versus-copy\n  app.launch_new_instance()\n"
                },
                {
                    "data": {
                        "text/html": "<div>\n<style scoped>\n    .dataframe tbody tr th:only-of-type {\n        vertical-align: middle;\n    }\n\n    .dataframe tbody tr th {\n        vertical-align: top;\n    }\n\n    .dataframe thead th {\n        text-align: right;\n    }\n</style>\n<table border=\"1\" class=\"dataframe\">\n  <thead>\n    <tr style=\"text-align: right;\">\n      <th></th>\n      <th>SEVERITYCODE</th>\n      <th>ADDRTYPE</th>\n      <th>JUNCTIONTYPE</th>\n      <th>UNDERINFL</th>\n      <th>WEATHER</th>\n      <th>ROADCOND</th>\n      <th>LIGHTCOND</th>\n      <th>SPEEDING</th>\n    </tr>\n    <tr>\n      <th>OBJECTID</th>\n      <th></th>\n      <th></th>\n      <th></th>\n      <th></th>\n      <th></th>\n      <th></th>\n      <th></th>\n      <th></th>\n    </tr>\n  </thead>\n  <tbody>\n    <tr>\n      <th>1</th>\n      <td>2</td>\n      <td>Intersection</td>\n      <td>At Intersection (intersection related)</td>\n      <td>N</td>\n      <td>Overcast</td>\n      <td>Wet</td>\n      <td>Daylight</td>\n      <td>0</td>\n    </tr>\n    <tr>\n      <th>2</th>\n      <td>1</td>\n      <td>Block</td>\n      <td>Mid-Block (not related to intersection)</td>\n      <td>0</td>\n      <td>Raining</td>\n      <td>Wet</td>\n      <td>Dark - Street Lights On</td>\n      <td>0</td>\n    </tr>\n    <tr>\n      <th>3</th>\n      <td>1</td>\n      <td>Block</td>\n      <td>Mid-Block (not related to intersection)</td>\n      <td>0</td>\n      <td>Overcast</td>\n      <td>Dry</td>\n      <td>Daylight</td>\n      <td>0</td>\n    </tr>\n    <tr>\n      <th>4</th>\n      <td>1</td>\n      <td>Block</td>\n      <td>Mid-Block (not related to intersection)</td>\n      <td>N</td>\n      <td>Clear</td>\n      <td>Dry</td>\n      <td>Daylight</td>\n      <td>0</td>\n    </tr>\n    <tr>\n      <th>5</th>\n      <td>2</td>\n      <td>Intersection</td>\n      <td>At Intersection (intersection related)</td>\n      <td>0</td>\n      <td>Raining</td>\n      <td>Wet</td>\n      <td>Daylight</td>\n      <td>0</td>\n    </tr>\n  </tbody>\n</table>\n</div>",
                        "text/plain": "          SEVERITYCODE      ADDRTYPE                             JUNCTIONTYPE  \\\nOBJECTID                                                                        \n1                    2  Intersection   At Intersection (intersection related)   \n2                    1         Block  Mid-Block (not related to intersection)   \n3                    1         Block  Mid-Block (not related to intersection)   \n4                    1         Block  Mid-Block (not related to intersection)   \n5                    2  Intersection   At Intersection (intersection related)   \n\n         UNDERINFL   WEATHER ROADCOND                LIGHTCOND  SPEEDING  \nOBJECTID                                                                  \n1                N  Overcast      Wet                 Daylight         0  \n2                0   Raining      Wet  Dark - Street Lights On         0  \n3                0  Overcast      Dry                 Daylight         0  \n4                N     Clear      Dry                 Daylight         0  \n5                0   Raining      Wet                 Daylight         0  "
                    },
                    "execution_count": 4,
                    "metadata": {},
                    "output_type": "execute_result"
                }
            ],
            "source": "#map speeding to 1 and 0\nfeatures['SPEEDING'] = features['SPEEDING'].fillna('N')\nfeatures['SPEEDING'] = features['SPEEDING'].map({'Y': 1, 'N': 0})\nfeatures.head()"
        },
        {
            "cell_type": "code",
            "execution_count": 5,
            "metadata": {},
            "outputs": [
                {
                    "name": "stderr",
                    "output_type": "stream",
                    "text": "/opt/conda/envs/Python36/lib/python3.6/site-packages/ipykernel/__main__.py:2: SettingWithCopyWarning: \nA value is trying to be set on a copy of a slice from a DataFrame.\nTry using .loc[row_indexer,col_indexer] = value instead\n\nSee the caveats in the documentation: http://pandas.pydata.org/pandas-docs/stable/indexing.html#indexing-view-versus-copy\n  from ipykernel import kernelapp as app\n/opt/conda/envs/Python36/lib/python3.6/site-packages/ipykernel/__main__.py:3: SettingWithCopyWarning: \nA value is trying to be set on a copy of a slice from a DataFrame.\nTry using .loc[row_indexer,col_indexer] = value instead\n\nSee the caveats in the documentation: http://pandas.pydata.org/pandas-docs/stable/indexing.html#indexing-view-versus-copy\n  app.launch_new_instance()\n"
                },
                {
                    "data": {
                        "text/html": "<div>\n<style scoped>\n    .dataframe tbody tr th:only-of-type {\n        vertical-align: middle;\n    }\n\n    .dataframe tbody tr th {\n        vertical-align: top;\n    }\n\n    .dataframe thead th {\n        text-align: right;\n    }\n</style>\n<table border=\"1\" class=\"dataframe\">\n  <thead>\n    <tr style=\"text-align: right;\">\n      <th></th>\n      <th>SEVERITYCODE</th>\n      <th>ADDRTYPE</th>\n      <th>JUNCTIONTYPE</th>\n      <th>UNDERINFL</th>\n      <th>WEATHER</th>\n      <th>ROADCOND</th>\n      <th>LIGHTCOND</th>\n      <th>SPEEDING</th>\n    </tr>\n    <tr>\n      <th>OBJECTID</th>\n      <th></th>\n      <th></th>\n      <th></th>\n      <th></th>\n      <th></th>\n      <th></th>\n      <th></th>\n      <th></th>\n    </tr>\n  </thead>\n  <tbody>\n    <tr>\n      <th>1</th>\n      <td>2</td>\n      <td>Intersection</td>\n      <td>At Intersection (intersection related)</td>\n      <td>0.0</td>\n      <td>Overcast</td>\n      <td>Wet</td>\n      <td>Daylight</td>\n      <td>0</td>\n    </tr>\n    <tr>\n      <th>2</th>\n      <td>1</td>\n      <td>Block</td>\n      <td>Mid-Block (not related to intersection)</td>\n      <td>0.0</td>\n      <td>Raining</td>\n      <td>Wet</td>\n      <td>Dark - Street Lights On</td>\n      <td>0</td>\n    </tr>\n    <tr>\n      <th>3</th>\n      <td>1</td>\n      <td>Block</td>\n      <td>Mid-Block (not related to intersection)</td>\n      <td>0.0</td>\n      <td>Overcast</td>\n      <td>Dry</td>\n      <td>Daylight</td>\n      <td>0</td>\n    </tr>\n    <tr>\n      <th>4</th>\n      <td>1</td>\n      <td>Block</td>\n      <td>Mid-Block (not related to intersection)</td>\n      <td>0.0</td>\n      <td>Clear</td>\n      <td>Dry</td>\n      <td>Daylight</td>\n      <td>0</td>\n    </tr>\n    <tr>\n      <th>5</th>\n      <td>2</td>\n      <td>Intersection</td>\n      <td>At Intersection (intersection related)</td>\n      <td>0.0</td>\n      <td>Raining</td>\n      <td>Wet</td>\n      <td>Daylight</td>\n      <td>0</td>\n    </tr>\n  </tbody>\n</table>\n</div>",
                        "text/plain": "          SEVERITYCODE      ADDRTYPE                             JUNCTIONTYPE  \\\nOBJECTID                                                                        \n1                    2  Intersection   At Intersection (intersection related)   \n2                    1         Block  Mid-Block (not related to intersection)   \n3                    1         Block  Mid-Block (not related to intersection)   \n4                    1         Block  Mid-Block (not related to intersection)   \n5                    2  Intersection   At Intersection (intersection related)   \n\n          UNDERINFL   WEATHER ROADCOND                LIGHTCOND  SPEEDING  \nOBJECTID                                                                   \n1               0.0  Overcast      Wet                 Daylight         0  \n2               0.0   Raining      Wet  Dark - Street Lights On         0  \n3               0.0  Overcast      Dry                 Daylight         0  \n4               0.0     Clear      Dry                 Daylight         0  \n5               0.0   Raining      Wet                 Daylight         0  "
                    },
                    "execution_count": 5,
                    "metadata": {},
                    "output_type": "execute_result"
                }
            ],
            "source": "#map under the influence to 1 and 0\nfeatures['UNDERINFL'] = features['UNDERINFL'].map({'Y': 1, 'N': 0})\nfeatures['UNDERINFL'] = features['UNDERINFL'].fillna(0)\nfeatures.head()"
        },
        {
            "cell_type": "code",
            "execution_count": 6,
            "metadata": {},
            "outputs": [
                {
                    "name": "stderr",
                    "output_type": "stream",
                    "text": "/opt/conda/envs/Python36/lib/python3.6/site-packages/ipykernel/__main__.py:2: SettingWithCopyWarning: \nA value is trying to be set on a copy of a slice from a DataFrame\n\nSee the caveats in the documentation: http://pandas.pydata.org/pandas-docs/stable/indexing.html#indexing-view-versus-copy\n  from ipykernel import kernelapp as app\n"
                },
                {
                    "data": {
                        "text/plain": "(182914, 8)"
                    },
                    "execution_count": 6,
                    "metadata": {},
                    "output_type": "execute_result"
                }
            ],
            "source": "#drop any remaining rows with NaN values\nfeatures.dropna(inplace = True)\nfeatures.shape"
        },
        {
            "cell_type": "code",
            "execution_count": 7,
            "metadata": {},
            "outputs": [
                {
                    "data": {
                        "text/plain": "(167335, 8)"
                    },
                    "execution_count": 7,
                    "metadata": {},
                    "output_type": "execute_result"
                }
            ],
            "source": "#Delete \"Unknown\" and \"Other\" values\nfeatures = features[features.JUNCTIONTYPE != 'Unknown']\nfeatures = features[features.WEATHER != 'Unknown']\nfeatures = features[features.WEATHER != 'Other']\nfeatures = features[features.ROADCOND != 'Unknown']\nfeatures = features[features.ROADCOND != 'Other']\nfeatures = features[features.LIGHTCOND != 'Unknown']\nfeatures = features[features.LIGHTCOND != 'Other']\nfeatures.shape"
        },
        {
            "cell_type": "code",
            "execution_count": 8,
            "metadata": {},
            "outputs": [
                {
                    "data": {
                        "text/plain": "1    112015\n2     55320\nName: SEVERITYCODE, dtype: int64"
                    },
                    "execution_count": 8,
                    "metadata": {},
                    "output_type": "execute_result"
                }
            ],
            "source": "#get counts for the two severity codes\nfeatures['SEVERITYCODE'].value_counts()"
        },
        {
            "cell_type": "code",
            "execution_count": 9,
            "metadata": {},
            "outputs": [
                {
                    "data": {
                        "text/plain": "(110640, 8)"
                    },
                    "execution_count": 9,
                    "metadata": {},
                    "output_type": "execute_result"
                }
            ],
            "source": "#data is heavily skewed toward severity code 1 ('property damage')\n#down-sample severity code 1 so that the data is balanced\nfrom sklearn.utils import resample\ndf_majority = features[features.SEVERITYCODE == 1]\ndf_minority = features[features.SEVERITYCODE == 2]\ndf_majority_downsampled = resample(df_majority, replace = False, n_samples = 55320, random_state = 123)\ndownsampled = pd.concat([df_majority_downsampled, df_minority])\ndownsampled.shape"
        },
        {
            "cell_type": "code",
            "execution_count": 10,
            "metadata": {},
            "outputs": [
                {
                    "data": {
                        "text/html": "<div>\n<style scoped>\n    .dataframe tbody tr th:only-of-type {\n        vertical-align: middle;\n    }\n\n    .dataframe tbody tr th {\n        vertical-align: top;\n    }\n\n    .dataframe thead th {\n        text-align: right;\n    }\n</style>\n<table border=\"1\" class=\"dataframe\">\n  <thead>\n    <tr style=\"text-align: right;\">\n      <th></th>\n      <th>SEVERITYCODE</th>\n      <th>ADDRTYPE</th>\n      <th>JUNCTIONTYPE</th>\n      <th>UNDERINFL</th>\n      <th>WEATHER</th>\n      <th>ROADCOND</th>\n      <th>LIGHTCOND</th>\n      <th>SPEEDING</th>\n      <th>Property Damage</th>\n      <th>Injury</th>\n    </tr>\n    <tr>\n      <th>OBJECTID</th>\n      <th></th>\n      <th></th>\n      <th></th>\n      <th></th>\n      <th></th>\n      <th></th>\n      <th></th>\n      <th></th>\n      <th></th>\n      <th></th>\n    </tr>\n  </thead>\n  <tbody>\n    <tr>\n      <th>108209</th>\n      <td>1</td>\n      <td>Block</td>\n      <td>Mid-Block (not related to intersection)</td>\n      <td>0.0</td>\n      <td>Clear</td>\n      <td>Dry</td>\n      <td>Daylight</td>\n      <td>0</td>\n      <td>1</td>\n      <td>0</td>\n    </tr>\n    <tr>\n      <th>148818</th>\n      <td>1</td>\n      <td>Intersection</td>\n      <td>At Intersection (intersection related)</td>\n      <td>0.0</td>\n      <td>Clear</td>\n      <td>Dry</td>\n      <td>Dark - Street Lights On</td>\n      <td>0</td>\n      <td>1</td>\n      <td>0</td>\n    </tr>\n    <tr>\n      <th>146271</th>\n      <td>1</td>\n      <td>Block</td>\n      <td>Mid-Block (not related to intersection)</td>\n      <td>0.0</td>\n      <td>Clear</td>\n      <td>Dry</td>\n      <td>Daylight</td>\n      <td>0</td>\n      <td>1</td>\n      <td>0</td>\n    </tr>\n    <tr>\n      <th>205403</th>\n      <td>1</td>\n      <td>Block</td>\n      <td>Mid-Block (not related to intersection)</td>\n      <td>0.0</td>\n      <td>Raining</td>\n      <td>Wet</td>\n      <td>Dusk</td>\n      <td>0</td>\n      <td>1</td>\n      <td>0</td>\n    </tr>\n    <tr>\n      <th>188635</th>\n      <td>1</td>\n      <td>Block</td>\n      <td>Mid-Block (not related to intersection)</td>\n      <td>0.0</td>\n      <td>Clear</td>\n      <td>Dry</td>\n      <td>Daylight</td>\n      <td>0</td>\n      <td>1</td>\n      <td>0</td>\n    </tr>\n  </tbody>\n</table>\n</div>",
                        "text/plain": "          SEVERITYCODE      ADDRTYPE                             JUNCTIONTYPE  \\\nOBJECTID                                                                        \n108209               1         Block  Mid-Block (not related to intersection)   \n148818               1  Intersection   At Intersection (intersection related)   \n146271               1         Block  Mid-Block (not related to intersection)   \n205403               1         Block  Mid-Block (not related to intersection)   \n188635               1         Block  Mid-Block (not related to intersection)   \n\n          UNDERINFL  WEATHER ROADCOND                LIGHTCOND  SPEEDING  \\\nOBJECTID                                                                   \n108209          0.0    Clear      Dry                 Daylight         0   \n148818          0.0    Clear      Dry  Dark - Street Lights On         0   \n146271          0.0    Clear      Dry                 Daylight         0   \n205403          0.0  Raining      Wet                     Dusk         0   \n188635          0.0    Clear      Dry                 Daylight         0   \n\n          Property Damage  Injury  \nOBJECTID                           \n108209                  1       0  \n148818                  1       0  \n146271                  1       0  \n205403                  1       0  \n188635                  1       0  "
                    },
                    "execution_count": 10,
                    "metadata": {},
                    "output_type": "execute_result"
                }
            ],
            "source": "#create dummy variables for each severity code for graphing purposes\ndummy = pd.get_dummies(downsampled[\"SEVERITYCODE\"])\ndummy.rename(columns={1:'Property Damage', 2:'Injury'}, inplace=True)\ndownsampled = pd.concat([downsampled, dummy], axis=1)\ndownsampled.head()"
        },
        {
            "cell_type": "code",
            "execution_count": 11,
            "metadata": {},
            "outputs": [
                {
                    "data": {
                        "text/html": "<div>\n<style scoped>\n    .dataframe tbody tr th:only-of-type {\n        vertical-align: middle;\n    }\n\n    .dataframe tbody tr th {\n        vertical-align: top;\n    }\n\n    .dataframe thead th {\n        text-align: right;\n    }\n</style>\n<table border=\"1\" class=\"dataframe\">\n  <thead>\n    <tr style=\"text-align: right;\">\n      <th></th>\n      <th>Property Damage</th>\n      <th>Injury</th>\n    </tr>\n    <tr>\n      <th>ADDRTYPE</th>\n      <th></th>\n      <th></th>\n    </tr>\n  </thead>\n  <tbody>\n    <tr>\n      <th>Alley</th>\n      <td>77.0</td>\n      <td>28.0</td>\n    </tr>\n    <tr>\n      <th>Block</th>\n      <td>38279.0</td>\n      <td>28500.0</td>\n    </tr>\n    <tr>\n      <th>Intersection</th>\n      <td>16964.0</td>\n      <td>26792.0</td>\n    </tr>\n  </tbody>\n</table>\n</div>",
                        "text/plain": "              Property Damage   Injury\nADDRTYPE                              \nAlley                    77.0     28.0\nBlock                 38279.0  28500.0\nIntersection          16964.0  26792.0"
                    },
                    "execution_count": 11,
                    "metadata": {},
                    "output_type": "execute_result"
                }
            ],
            "source": "#make sub-dataframes to see where noticeable differences are \naddrtype = downsampled.groupby(['ADDRTYPE'])[['Property Damage','Injury']].agg('sum')\naddrtype"
        },
        {
            "cell_type": "code",
            "execution_count": 12,
            "metadata": {},
            "outputs": [
                {
                    "data": {
                        "text/html": "<div>\n<style scoped>\n    .dataframe tbody tr th:only-of-type {\n        vertical-align: middle;\n    }\n\n    .dataframe tbody tr th {\n        vertical-align: top;\n    }\n\n    .dataframe thead th {\n        text-align: right;\n    }\n</style>\n<table border=\"1\" class=\"dataframe\">\n  <thead>\n    <tr style=\"text-align: right;\">\n      <th></th>\n      <th>Property Damage</th>\n      <th>Injury</th>\n    </tr>\n    <tr>\n      <th>JUNCTIONTYPE</th>\n      <th></th>\n      <th></th>\n    </tr>\n  </thead>\n  <tbody>\n    <tr>\n      <th>At Intersection (but not related to intersection)</th>\n      <td>570.0</td>\n      <td>599.0</td>\n    </tr>\n    <tr>\n      <th>At Intersection (intersection related)</th>\n      <td>16386.0</td>\n      <td>26184.0</td>\n    </tr>\n    <tr>\n      <th>Driveway Junction</th>\n      <td>3346.0</td>\n      <td>3128.0</td>\n    </tr>\n    <tr>\n      <th>Mid-Block (but intersection related)</th>\n      <td>6954.0</td>\n      <td>6967.0</td>\n    </tr>\n    <tr>\n      <th>Mid-Block (not related to intersection)</th>\n      <td>28012.0</td>\n      <td>18393.0</td>\n    </tr>\n    <tr>\n      <th>Ramp Junction</th>\n      <td>52.0</td>\n      <td>49.0</td>\n    </tr>\n  </tbody>\n</table>\n</div>",
                        "text/plain": "                                                   Property Damage   Injury\nJUNCTIONTYPE                                                               \nAt Intersection (but not related to intersection)            570.0    599.0\nAt Intersection (intersection related)                     16386.0  26184.0\nDriveway Junction                                           3346.0   3128.0\nMid-Block (but intersection related)                        6954.0   6967.0\nMid-Block (not related to intersection)                    28012.0  18393.0\nRamp Junction                                                 52.0     49.0"
                    },
                    "execution_count": 12,
                    "metadata": {},
                    "output_type": "execute_result"
                }
            ],
            "source": "junctiontype = downsampled.groupby(['JUNCTIONTYPE'])[['Property Damage','Injury']].agg('sum')\njunctiontype"
        },
        {
            "cell_type": "code",
            "execution_count": 13,
            "metadata": {},
            "outputs": [
                {
                    "data": {
                        "text/html": "<div>\n<style scoped>\n    .dataframe tbody tr th:only-of-type {\n        vertical-align: middle;\n    }\n\n    .dataframe tbody tr th {\n        vertical-align: top;\n    }\n\n    .dataframe thead th {\n        text-align: right;\n    }\n</style>\n<table border=\"1\" class=\"dataframe\">\n  <thead>\n    <tr style=\"text-align: right;\">\n      <th></th>\n      <th>Property Damage</th>\n      <th>Injury</th>\n    </tr>\n    <tr>\n      <th>UNDERINFL</th>\n      <th></th>\n      <th></th>\n    </tr>\n  </thead>\n  <tbody>\n    <tr>\n      <th>0.0</th>\n      <td>53846.0</td>\n      <td>53435.0</td>\n    </tr>\n    <tr>\n      <th>1.0</th>\n      <td>1474.0</td>\n      <td>1885.0</td>\n    </tr>\n  </tbody>\n</table>\n</div>",
                        "text/plain": "           Property Damage   Injury\nUNDERINFL                          \n0.0                53846.0  53435.0\n1.0                 1474.0   1885.0"
                    },
                    "execution_count": 13,
                    "metadata": {},
                    "output_type": "execute_result"
                }
            ],
            "source": "underinfl = downsampled.groupby(['UNDERINFL'])[['Property Damage','Injury']].agg('sum')\nunderinfl"
        },
        {
            "cell_type": "code",
            "execution_count": 14,
            "metadata": {},
            "outputs": [
                {
                    "data": {
                        "text/html": "<div>\n<style scoped>\n    .dataframe tbody tr th:only-of-type {\n        vertical-align: middle;\n    }\n\n    .dataframe tbody tr th {\n        vertical-align: top;\n    }\n\n    .dataframe thead th {\n        text-align: right;\n    }\n</style>\n<table border=\"1\" class=\"dataframe\">\n  <thead>\n    <tr style=\"text-align: right;\">\n      <th></th>\n      <th>Property Damage</th>\n      <th>Injury</th>\n    </tr>\n    <tr>\n      <th>WEATHER</th>\n      <th></th>\n      <th></th>\n    </tr>\n  </thead>\n  <tbody>\n    <tr>\n      <th>Blowing Sand/Dirt</th>\n      <td>17.0</td>\n      <td>12.0</td>\n    </tr>\n    <tr>\n      <th>Clear</th>\n      <td>35295.0</td>\n      <td>35364.0</td>\n    </tr>\n    <tr>\n      <th>Fog/Smog/Smoke</th>\n      <td>190.0</td>\n      <td>182.0</td>\n    </tr>\n    <tr>\n      <th>Overcast</th>\n      <td>8929.0</td>\n      <td>8563.0</td>\n    </tr>\n    <tr>\n      <th>Partly Cloudy</th>\n      <td>2.0</td>\n      <td>3.0</td>\n    </tr>\n    <tr>\n      <th>Raining</th>\n      <td>10523.0</td>\n      <td>11000.0</td>\n    </tr>\n    <tr>\n      <th>Severe Crosswind</th>\n      <td>6.0</td>\n      <td>7.0</td>\n    </tr>\n    <tr>\n      <th>Sleet/Hail/Freezing Rain</th>\n      <td>38.0</td>\n      <td>27.0</td>\n    </tr>\n    <tr>\n      <th>Snowing</th>\n      <td>320.0</td>\n      <td>162.0</td>\n    </tr>\n  </tbody>\n</table>\n</div>",
                        "text/plain": "                          Property Damage   Injury\nWEATHER                                           \nBlowing Sand/Dirt                    17.0     12.0\nClear                             35295.0  35364.0\nFog/Smog/Smoke                      190.0    182.0\nOvercast                           8929.0   8563.0\nPartly Cloudy                         2.0      3.0\nRaining                           10523.0  11000.0\nSevere Crosswind                      6.0      7.0\nSleet/Hail/Freezing Rain             38.0     27.0\nSnowing                             320.0    162.0"
                    },
                    "execution_count": 14,
                    "metadata": {},
                    "output_type": "execute_result"
                }
            ],
            "source": "weather = downsampled.groupby(['WEATHER'])[['Property Damage','Injury']].agg('sum')\nweather"
        },
        {
            "cell_type": "code",
            "execution_count": 15,
            "metadata": {},
            "outputs": [
                {
                    "data": {
                        "text/html": "<div>\n<style scoped>\n    .dataframe tbody tr th:only-of-type {\n        vertical-align: middle;\n    }\n\n    .dataframe tbody tr th {\n        vertical-align: top;\n    }\n\n    .dataframe thead th {\n        text-align: right;\n    }\n</style>\n<table border=\"1\" class=\"dataframe\">\n  <thead>\n    <tr style=\"text-align: right;\">\n      <th></th>\n      <th>Property Damage</th>\n      <th>Injury</th>\n    </tr>\n    <tr>\n      <th>ROADCOND</th>\n      <th></th>\n      <th></th>\n    </tr>\n  </thead>\n  <tbody>\n    <tr>\n      <th>Dry</th>\n      <td>39558.0</td>\n      <td>39403.0</td>\n    </tr>\n    <tr>\n      <th>Ice</th>\n      <td>387.0</td>\n      <td>258.0</td>\n    </tr>\n    <tr>\n      <th>Oil</th>\n      <td>14.0</td>\n      <td>24.0</td>\n    </tr>\n    <tr>\n      <th>Sand/Mud/Dirt</th>\n      <td>20.0</td>\n      <td>21.0</td>\n    </tr>\n    <tr>\n      <th>Snow/Slush</th>\n      <td>347.0</td>\n      <td>154.0</td>\n    </tr>\n    <tr>\n      <th>Standing Water</th>\n      <td>36.0</td>\n      <td>27.0</td>\n    </tr>\n    <tr>\n      <th>Wet</th>\n      <td>14958.0</td>\n      <td>15433.0</td>\n    </tr>\n  </tbody>\n</table>\n</div>",
                        "text/plain": "                Property Damage   Injury\nROADCOND                                \nDry                     39558.0  39403.0\nIce                       387.0    258.0\nOil                        14.0     24.0\nSand/Mud/Dirt              20.0     21.0\nSnow/Slush                347.0    154.0\nStanding Water             36.0     27.0\nWet                     14958.0  15433.0"
                    },
                    "execution_count": 15,
                    "metadata": {},
                    "output_type": "execute_result"
                }
            ],
            "source": "roadcond = downsampled.groupby(['ROADCOND'])[['Property Damage','Injury']].agg('sum')\nroadcond"
        },
        {
            "cell_type": "code",
            "execution_count": 16,
            "metadata": {},
            "outputs": [
                {
                    "data": {
                        "text/html": "<div>\n<style scoped>\n    .dataframe tbody tr th:only-of-type {\n        vertical-align: middle;\n    }\n\n    .dataframe tbody tr th {\n        vertical-align: top;\n    }\n\n    .dataframe thead th {\n        text-align: right;\n    }\n</style>\n<table border=\"1\" class=\"dataframe\">\n  <thead>\n    <tr style=\"text-align: right;\">\n      <th></th>\n      <th>Property Damage</th>\n      <th>Injury</th>\n    </tr>\n    <tr>\n      <th>LIGHTCOND</th>\n      <th></th>\n      <th></th>\n    </tr>\n  </thead>\n  <tbody>\n    <tr>\n      <th>Dark - No Street Lights</th>\n      <td>481.0</td>\n      <td>317.0</td>\n    </tr>\n    <tr>\n      <th>Dark - Street Lights Off</th>\n      <td>388.0</td>\n      <td>306.0</td>\n    </tr>\n    <tr>\n      <th>Dark - Street Lights On</th>\n      <td>15738.0</td>\n      <td>14171.0</td>\n    </tr>\n    <tr>\n      <th>Dark - Unknown Lighting</th>\n      <td>1.0</td>\n      <td>3.0</td>\n    </tr>\n    <tr>\n      <th>Dawn</th>\n      <td>795.0</td>\n      <td>801.0</td>\n    </tr>\n    <tr>\n      <th>Daylight</th>\n      <td>36136.0</td>\n      <td>37834.0</td>\n    </tr>\n    <tr>\n      <th>Dusk</th>\n      <td>1781.0</td>\n      <td>1888.0</td>\n    </tr>\n  </tbody>\n</table>\n</div>",
                        "text/plain": "                          Property Damage   Injury\nLIGHTCOND                                         \nDark - No Street Lights             481.0    317.0\nDark - Street Lights Off            388.0    306.0\nDark - Street Lights On           15738.0  14171.0\nDark - Unknown Lighting               1.0      3.0\nDawn                                795.0    801.0\nDaylight                          36136.0  37834.0\nDusk                               1781.0   1888.0"
                    },
                    "execution_count": 16,
                    "metadata": {},
                    "output_type": "execute_result"
                }
            ],
            "source": "lightcond = downsampled.groupby(['LIGHTCOND'])[['Property Damage','Injury']].agg('sum')\nlightcond"
        },
        {
            "cell_type": "code",
            "execution_count": 17,
            "metadata": {},
            "outputs": [
                {
                    "data": {
                        "text/html": "<div>\n<style scoped>\n    .dataframe tbody tr th:only-of-type {\n        vertical-align: middle;\n    }\n\n    .dataframe tbody tr th {\n        vertical-align: top;\n    }\n\n    .dataframe thead th {\n        text-align: right;\n    }\n</style>\n<table border=\"1\" class=\"dataframe\">\n  <thead>\n    <tr style=\"text-align: right;\">\n      <th></th>\n      <th>Property Damage</th>\n      <th>Injury</th>\n    </tr>\n    <tr>\n      <th>SPEEDING</th>\n      <th></th>\n      <th></th>\n    </tr>\n  </thead>\n  <tbody>\n    <tr>\n      <th>0</th>\n      <td>52596.0</td>\n      <td>51892.0</td>\n    </tr>\n    <tr>\n      <th>1</th>\n      <td>2724.0</td>\n      <td>3428.0</td>\n    </tr>\n  </tbody>\n</table>\n</div>",
                        "text/plain": "          Property Damage   Injury\nSPEEDING                          \n0                 52596.0  51892.0\n1                  2724.0   3428.0"
                    },
                    "execution_count": 17,
                    "metadata": {},
                    "output_type": "execute_result"
                }
            ],
            "source": "speeding = downsampled.groupby(['SPEEDING'])[['Property Damage','Injury']].agg('sum')\nspeeding"
        },
        {
            "cell_type": "code",
            "execution_count": 18,
            "metadata": {},
            "outputs": [],
            "source": "%matplotlib inline \n\nimport matplotlib as mpl\nimport matplotlib.pyplot as plt"
        },
        {
            "cell_type": "code",
            "execution_count": 19,
            "metadata": {},
            "outputs": [
                {
                    "data": {
                        "image/png": "[encoded data removed]",
                        "text/plain": "<Figure size 720x432 with 1 Axes>"
                    },
                    "metadata": {
                        "needs_background": "light"
                    },
                    "output_type": "display_data"
                }
            ],
            "source": "#noticeable variances are in address type and junction type\n#plot those two for a visual\naddrtype.plot(kind='bar', figsize=(10, 6))\n\nplt.title('Collisions by Address Type')\nplt.ylabel('Number of Accidents')\nplt.xlabel('Address Type')\n\nplt.show()"
        },
        {
            "cell_type": "code",
            "execution_count": 20,
            "metadata": {},
            "outputs": [
                {
                    "data": {
                        "image/png": "[encoded data removed]",
                        "text/plain": "<Figure size 720x432 with 1 Axes>"
                    },
                    "metadata": {
                        "needs_background": "light"
                    },
                    "output_type": "display_data"
                }
            ],
            "source": "junctiontype.plot(kind='bar', figsize=(10, 6))\n\nplt.title('Collisions by Junction Type')\nplt.ylabel('Number of Accidents')\nplt.xlabel('Junction Type')\n\nplt.show()"
        },
        {
            "cell_type": "code",
            "execution_count": null,
            "metadata": {},
            "outputs": [],
            "source": ""
        },
        {
            "cell_type": "code",
            "execution_count": 21,
            "metadata": {},
            "outputs": [],
            "source": "from sklearn.tree import DecisionTreeClassifier\nfrom sklearn.model_selection import train_test_split\nfrom sklearn import metrics\nfrom sklearn import preprocessing\nfrom sklearn.externals.six import StringIO\nimport matplotlib.image as mpimg\nfrom sklearn import tree"
        },
        {
            "cell_type": "code",
            "execution_count": null,
            "metadata": {},
            "outputs": [],
            "source": ""
        },
        {
            "cell_type": "code",
            "execution_count": 23,
            "metadata": {},
            "outputs": [
                {
                    "data": {
                        "text/plain": "array([[1, 4, 0.0, 1, 0, 5, 0],\n       [2, 1, 0.0, 1, 0, 2, 0],\n       [1, 4, 0.0, 1, 0, 5, 0],\n       [1, 4, 0.0, 5, 6, 6, 0],\n       [1, 4, 0.0, 1, 0, 5, 0]], dtype=object)"
                    },
                    "execution_count": 23,
                    "metadata": {},
                    "output_type": "execute_result"
                }
            ],
            "source": "#create our X variable and map all the string variables to integers\nX = downsampled[['ADDRTYPE', 'JUNCTIONTYPE', 'UNDERINFL', 'WEATHER', 'ROADCOND', 'LIGHTCOND','SPEEDING']].values\n\nle_ADDRTYPE = preprocessing.LabelEncoder()\nle_ADDRTYPE.fit(['Alley','Block', 'Intersection'])\nX[:,0] = le_ADDRTYPE.transform(X[:,0]) \n\n\nle_JUNCTIONTYPE = preprocessing.LabelEncoder()\nle_JUNCTIONTYPE.fit(['Mid-Block (not related to intersection)',\n       'At Intersection (intersection related)',\n       'Mid-Block (but intersection related)', 'Driveway Junction',\n       'At Intersection (but not related to intersection)',\n       'Ramp Junction'])\nX[:,1] = le_JUNCTIONTYPE.transform(X[:,1])\n\n\nle_WEATHER = preprocessing.LabelEncoder()\nle_WEATHER.fit(['Clear', 'Raining', 'Overcast', 'Snowing', 'Fog/Smog/Smoke',\n       'Sleet/Hail/Freezing Rain', 'Severe Crosswind',\n       'Blowing Sand/Dirt', 'Partly Cloudy'])\nX[:,3] = le_WEATHER.transform(X[:,3]) \n\nle_ROADCOND = preprocessing.LabelEncoder()\nle_ROADCOND.fit(['Dry', 'Wet', 'Snow/Slush', 'Ice', 'Standing Water', 'Oil',\n       'Sand/Mud/Dirt'])\nX[:,4] = le_ROADCOND.transform(X[:,4]) \n\nle_LIGHTCOND = preprocessing.LabelEncoder()\nle_LIGHTCOND.fit(['Daylight', 'Dark - Street Lights On', 'Dusk',\n       'Dark - Street Lights Off', 'Dawn', 'Dark - No Street Lights',\n       'Dark - Unknown Lighting'])\nX[:,5] = le_LIGHTCOND.transform(X[:,5]) \n\nX[0:5]"
        },
        {
            "cell_type": "code",
            "execution_count": 49,
            "metadata": {},
            "outputs": [
                {
                    "data": {
                        "text/plain": "OBJECTID\n108209    1\n148818    1\n146271    1\n205403    1\n188635    1\nName: SEVERITYCODE, dtype: int64"
                    },
                    "execution_count": 49,
                    "metadata": {},
                    "output_type": "execute_result"
                }
            ],
            "source": "#create the dependent variable\ny = downsampled['SEVERITYCODE']\ny[0:5]"
        },
        {
            "cell_type": "code",
            "execution_count": 25,
            "metadata": {},
            "outputs": [],
            "source": "#create train & test sets\nX_trainset, X_testset, y_trainset, y_testset = train_test_split(X, y, test_size=0.3, random_state=3)"
        },
        {
            "cell_type": "code",
            "execution_count": 26,
            "metadata": {},
            "outputs": [],
            "source": "#create the decision tree\ncollisionTree = DecisionTreeClassifier(criterion=\"entropy\", max_depth = 4)"
        },
        {
            "cell_type": "code",
            "execution_count": 27,
            "metadata": {},
            "outputs": [
                {
                    "data": {
                        "text/plain": "DecisionTreeClassifier(class_weight=None, criterion='entropy', max_depth=4,\n            max_features=None, max_leaf_nodes=None,\n            min_impurity_decrease=0.0, min_impurity_split=None,\n            min_samples_leaf=1, min_samples_split=2,\n            min_weight_fraction_leaf=0.0, presort=False, random_state=None,\n            splitter='best')"
                    },
                    "execution_count": 27,
                    "metadata": {},
                    "output_type": "execute_result"
                }
            ],
            "source": "#fit the collision tree to the training set\ncollisionTree.fit(X_trainset,y_trainset)"
        },
        {
            "cell_type": "code",
            "execution_count": 28,
            "metadata": {},
            "outputs": [],
            "source": "#use the decision tree to make a prediction based on the test set\npredTree = collisionTree.predict(X_testset)"
        },
        {
            "cell_type": "code",
            "execution_count": 51,
            "metadata": {},
            "outputs": [
                {
                    "name": "stdout",
                    "output_type": "stream",
                    "text": "[1 1 1 1 1]\nOBJECTID\n20695     2\n155072    2\n113258    1\n122969    1\n47833     2\nName: SEVERITYCODE, dtype: int64\n"
                }
            ],
            "source": "print (predTree [0:5])\nprint (y_testset [0:5])"
        },
        {
            "cell_type": "code",
            "execution_count": 38,
            "metadata": {},
            "outputs": [
                {
                    "name": "stdout",
                    "output_type": "stream",
                    "text": "DecisionTrees's Accuracy:  0.593878042901904\n"
                }
            ],
            "source": "print(\"DecisionTrees's Accuracy: \", metrics.accuracy_score(y_testset, predTree))"
        },
        {
            "cell_type": "code",
            "execution_count": 37,
            "metadata": {},
            "outputs": [
                {
                    "name": "stderr",
                    "output_type": "stream",
                    "text": "/opt/conda/envs/Python36/lib/python3.6/site-packages/sklearn/svm/base.py:196: FutureWarning: The default value of gamma will change from 'auto' to 'scale' in version 0.22 to account better for unscaled features. Set gamma explicitly to 'auto' or 'scale' to avoid this warning.\n  \"avoid this warning.\", FutureWarning)\n"
                },
                {
                    "data": {
                        "text/plain": "SVC(C=1.0, cache_size=200, class_weight=None, coef0=0.0,\n  decision_function_shape='ovr', degree=3, gamma='auto_deprecated',\n  kernel='rbf', max_iter=-1, probability=False, random_state=None,\n  shrinking=True, tol=0.001, verbose=False)"
                    },
                    "execution_count": 37,
                    "metadata": {},
                    "output_type": "execute_result"
                }
            ],
            "source": "#try SVM to see if we get a different result\nfrom sklearn import svm\nclf = svm.SVC(kernel='rbf')\nclf.fit(X_trainset, y_trainset) "
        },
        {
            "cell_type": "code",
            "execution_count": 52,
            "metadata": {},
            "outputs": [
                {
                    "data": {
                        "text/plain": "array([1, 1, 1, ..., 1, 2, 2])"
                    },
                    "execution_count": 52,
                    "metadata": {},
                    "output_type": "execute_result"
                }
            ],
            "source": "yhat = clf.predict(X_testset)\nyhat [0:5]"
        },
        {
            "cell_type": "code",
            "execution_count": 53,
            "metadata": {},
            "outputs": [
                {
                    "data": {
                        "text/plain": "0.5948010465382899"
                    },
                    "execution_count": 53,
                    "metadata": {},
                    "output_type": "execute_result"
                }
            ],
            "source": "from sklearn.metrics import f1_score\nf1_score(y_testset, yhat, average='weighted')"
        },
        {
            "cell_type": "code",
            "execution_count": 54,
            "metadata": {},
            "outputs": [
                {
                    "data": {
                        "text/plain": "0.5948722583755122"
                    },
                    "execution_count": 54,
                    "metadata": {},
                    "output_type": "execute_result"
                }
            ],
            "source": "from sklearn.metrics import jaccard_similarity_score\njaccard_similarity_score(y_testset, yhat)"
        },
        {
            "cell_type": "code",
            "execution_count": null,
            "metadata": {},
            "outputs": [],
            "source": ""
        },
        {
            "cell_type": "code",
            "execution_count": null,
            "metadata": {},
            "outputs": [],
            "source": ""
        },
        {
            "cell_type": "code",
            "execution_count": null,
            "metadata": {},
            "outputs": [],
            "source": ""
        },
        {
            "cell_type": "code",
            "execution_count": null,
            "metadata": {},
            "outputs": [],
            "source": ""
        }
    ],
    "metadata": {
        "kernelspec": {
            "display_name": "Python 3.6",
            "language": "python",
            "name": "python3"
        },
        "language_info": {
            "codemirror_mode": {
                "name": "ipython",
                "version": 3
            },
            "file_extension": ".py",
            "mimetype": "text/x-python",
            "name": "python",
            "nbconvert_exporter": "python",
            "pygments_lexer": "ipython3",
            "version": "3.6.9"
        }
    },
    "nbformat": 4,
    "nbformat_minor": 1
}